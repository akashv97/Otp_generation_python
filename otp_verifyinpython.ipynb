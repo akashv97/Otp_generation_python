{
  "nbformat": 4,
  "nbformat_minor": 0,
  "metadata": {
    "colab": {
      "provenance": []
    },
    "kernelspec": {
      "name": "python3",
      "display_name": "Python 3"
    },
    "language_info": {
      "name": "python"
    }
  },
  "cells": [
    {
      "cell_type": "code",
      "execution_count": 28,
      "metadata": {
        "id": "nCo6OzCk4tdf"
      },
      "outputs": [],
      "source": [
        "import random\n",
        "import smtplib\n",
        "from email.message import EmailMessage"
      ]
    },
    {
      "cell_type": "code",
      "source": [
        "generate_otp = random.randint(100000, 999999)\n",
        "print(\"OTP:\",generate_otp)"
      ],
      "metadata": {
        "id": "3QhPDx6s5l0E",
        "colab": {
          "base_uri": "https://localhost:8080/"
        },
        "outputId": "6f8952bf-873b-47d0-f69f-f909b532f1e6"
      },
      "execution_count": 29,
      "outputs": [
        {
          "output_type": "stream",
          "name": "stdout",
          "text": [
            "OTP: 990686\n"
          ]
        }
      ]
    },
    {
      "cell_type": "code",
      "source": [
        "server=smtplib.SMTP('smtp.gmail.com',587)\n",
        "server.starttls()"
      ],
      "metadata": {
        "colab": {
          "base_uri": "https://localhost:8080/"
        },
        "id": "73K9xC3aBJ16",
        "outputId": "099a09f0-144a-46f3-bcea-3f6b880b7888"
      },
      "execution_count": 30,
      "outputs": [
        {
          "output_type": "execute_result",
          "data": {
            "text/plain": [
              "(220, b'2.0.0 Ready to start TLS')"
            ]
          },
          "metadata": {},
          "execution_count": 30
        }
      ]
    },
    {
      "cell_type": "code",
      "source": [
        "server.login('akashranjan.1456@gmail.com','cgro mkqd oern iywa')\n",
        "to_mail=input('Enter your email: ')\n",
        "msg=EmailMessage()\n",
        "msg['Subject']='OTP'\n",
        "msg['From']='akashranjan.1456@gmail.com'\n",
        "msg['To']=to_mail\n",
        "msg.set_content('OTP: '+str(generate_otp))\n",
        "server.send_message(msg)\n",
        "print('OTP sent to your mail')"
      ],
      "metadata": {
        "colab": {
          "base_uri": "https://localhost:8080/"
        },
        "id": "CzfP9HfaBbKb",
        "outputId": "6baf9aaf-f0ca-4e81-97b6-f07aeb4077ed"
      },
      "execution_count": 31,
      "outputs": [
        {
          "output_type": "stream",
          "name": "stdout",
          "text": [
            "Enter your email: mailtojranjan.5060@gmail.com\n",
            "OTP sent to your mail\n"
          ]
        }
      ]
    },
    {
      "cell_type": "code",
      "source": [
        "password=int(input('Password: '))\n",
        "if password==generate_otp:\n",
        "    print('OTP verified')\n",
        "else:\n",
        "    print('OTP not verified')"
      ],
      "metadata": {
        "colab": {
          "base_uri": "https://localhost:8080/"
        },
        "id": "6f-HyIHMCEm8",
        "outputId": "37f9ea08-5667-4486-a435-bbd9f3b7bd11"
      },
      "execution_count": 34,
      "outputs": [
        {
          "output_type": "stream",
          "name": "stdout",
          "text": [
            "Password: 990686\n",
            "OTP verified\n"
          ]
        }
      ]
    }
  ]
}